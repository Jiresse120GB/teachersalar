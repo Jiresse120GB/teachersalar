{
 "cells": [
  {
   "cell_type": "code",
   "execution_count": 1,
   "id": "3a4e2394",
   "metadata": {},
   "outputs": [],
   "source": [
    "import joblib\n",
    "import pandas as pd"
   ]
  },
  {
   "cell_type": "code",
   "execution_count": 2,
   "id": "c8046b6e",
   "metadata": {},
   "outputs": [],
   "source": [
    "model=joblib.load('dataset_teacherV1.pkl')"
   ]
  },
  {
   "cell_type": "code",
   "execution_count": 4,
   "id": "e9f631f2",
   "metadata": {},
   "outputs": [],
   "source": [
    "test=[[10,7,1,70,20]]"
   ]
  },
  {
   "cell_type": "code",
   "execution_count": 5,
   "id": "aa712475",
   "metadata": {},
   "outputs": [],
   "source": [
    "y_predict=model.predict(test)"
   ]
  },
  {
   "cell_type": "code",
   "execution_count": 6,
   "id": "58f1e726",
   "metadata": {},
   "outputs": [
    {
     "data": {
      "text/plain": [
       "array([1970.48073294])"
      ]
     },
     "execution_count": 6,
     "metadata": {},
     "output_type": "execute_result"
    }
   ],
   "source": [
    "y_predict"
   ]
  },
  {
   "cell_type": "code",
   "execution_count": null,
   "id": "00deb148",
   "metadata": {},
   "outputs": [],
   "source": []
  }
 ],
 "metadata": {
  "kernelspec": {
   "display_name": "Python 3 (ipykernel)",
   "language": "python",
   "name": "python3"
  },
  "language_info": {
   "codemirror_mode": {
    "name": "ipython",
    "version": 3
   },
   "file_extension": ".py",
   "mimetype": "text/x-python",
   "name": "python",
   "nbconvert_exporter": "python",
   "pygments_lexer": "ipython3",
   "version": "3.9.7"
  }
 },
 "nbformat": 4,
 "nbformat_minor": 5
}
